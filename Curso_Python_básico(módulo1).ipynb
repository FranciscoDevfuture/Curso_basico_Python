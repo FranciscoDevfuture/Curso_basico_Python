{
  "nbformat": 4,
  "nbformat_minor": 0,
  "metadata": {
    "colab": {
      "provenance": [],
      "authorship_tag": "ABX9TyMfSSIefPZ+8b7S4w0YT5EJ",
      "include_colab_link": true
    },
    "kernelspec": {
      "name": "python3",
      "display_name": "Python 3"
    },
    "language_info": {
      "name": "python"
    }
  },
  "cells": [
    {
      "cell_type": "markdown",
      "metadata": {
        "id": "view-in-github",
        "colab_type": "text"
      },
      "source": [
        "<a href=\"https://colab.research.google.com/github/FranciscoDevfuture/Curso_basico_Python/blob/main/Curso_Python_b%C3%A1sico(m%C3%B3dulo1).ipynb\" target=\"_parent\"><img src=\"https://colab.research.google.com/assets/colab-badge.svg\" alt=\"Open In Colab\"/></a>"
      ]
    },
    {
      "cell_type": "markdown",
      "source": [
        "# Criando Variáveis\n",
        "Nomes de variáveis,valores variáveis e console.\n",
        "Python é uma linguagem de programação fantástica para iniciantes e especialistas. É o idiome preferido de muitas empresas e uma escolha popular para projetos pessoais. Você pode usá-lo para automatizar tarefas, avançar no trabalho com análise de dados, aprendizado de máquina e muito mais.\n",
        "  Os progrmas de computador dependem de variáveis para armazenar informações.\n",
        "  As variáveis têm contêudo e nomes que nos dizem o que há dentro.\n",
        "  Por exemplo, podemos criar uma variável chamada age armazenando um valor numérico, como 10."
      ],
      "metadata": {
        "id": "A6X1qDNKdSQP"
      }
    },
    {
      "cell_type": "code",
      "source": [
        "age = 10\n"
      ],
      "metadata": {
        "id": "uOUHXqU9e8QU"
      },
      "execution_count": null,
      "outputs": []
    },
    {
      "cell_type": "markdown",
      "source": [
        "Para criar uma variável, precisamos dar um nome a ela. Os Nomes das variáveis precisam ser palavras únicas e, portanto, sem espaços.\n",
        "Escreva score do nome da variável para armazenar o valor da pontuação de um aluno."
      ],
      "metadata": {
        "id": "_YzcVs-te_px"
      }
    },
    {
      "cell_type": "code",
      "source": [
        "score = 80"
      ],
      "metadata": {
        "id": "T9fgmtimfetz"
      },
      "execution_count": null,
      "outputs": []
    },
    {
      "cell_type": "markdown",
      "source": [
        "se quisermos um nome de variável com várias palavras, usamos snake case, significa usar _ para conectar as palavras adicionais.\n",
        "veja o exemplo a seguir.\n"
      ],
      "metadata": {
        "id": "mIoFQz9QfnWP"
      }
    },
    {
      "cell_type": "code",
      "source": [
        "min_score = 55"
      ],
      "metadata": {
        "id": "n71Q5BwBf72u"
      },
      "execution_count": null,
      "outputs": []
    },
    {
      "cell_type": "markdown",
      "source": [
        "Para nos ajudar a entender o que há dentro de uma variável, escolhemos nomes descritivos, como este para a pontuação mínima para aprovação."
      ],
      "metadata": {
        "id": "kWUeyxzKgAw2"
      }
    },
    {
      "cell_type": "code",
      "source": [
        "min_passing_score = 55"
      ],
      "metadata": {
        "id": "BSibR80CgQod"
      },
      "execution_count": null,
      "outputs": []
    },
    {
      "cell_type": "markdown",
      "source": [
        "# Para que os computadores usam variáveis?\n",
        "a) Para desenhar imagens na tela?\n",
        "\n",
        "b) Para lembrar informações?\n",
        "\n",
        "\n"
      ],
      "metadata": {
        "id": "ikVDE1xHghRd"
      }
    },
    {
      "cell_type": "markdown",
      "source": [
        "# O que há de errado com esse nome de variável?\n"
      ],
      "metadata": {
        "id": "BfcfRT2NhGb6"
      }
    },
    {
      "cell_type": "code",
      "source": [
        "high score"
      ],
      "metadata": {
        "id": "zPuNI1KHhTS1"
      },
      "execution_count": null,
      "outputs": []
    },
    {
      "cell_type": "markdown",
      "source": [
        "A) Há um espaço entre as palavras?\n",
        "\n",
        "B) Contém uma letra minúscula?"
      ],
      "metadata": {
        "id": "wCGCx3M5hXU5"
      }
    },
    {
      "cell_type": "markdown",
      "source": [
        "# Para que usamos a snake case?\n",
        "\n",
        "A) Para criar nomes de variáveis com espaços?\n",
        "\n",
        "B) Para criar nomes de variáveis com várias palavras?"
      ],
      "metadata": {
        "id": "7v_aHNmZhmWR"
      }
    },
    {
      "cell_type": "markdown",
      "source": [
        "# Por que damos nomes descritivos às variáveis, como city ou population, em vez de c ou p?\n",
        "\n",
        "A) Para nos ajudar a entender o que há dentro deles?\n",
        "\n",
        "B) Para torná-los mais rápidos para digitar?"
      ],
      "metadata": {
        "id": "vtnKUxorh4j3"
      }
    },
    {
      "cell_type": "markdown",
      "source": [
        "Escolha o nome da varável mais descritivo para armazenar os anos mínimos de experiência necessários para um trabalho."
      ],
      "metadata": {
        "id": "03Ur_KdfiZdG"
      }
    },
    {
      "cell_type": "code",
      "source": [
        "min_experience_years = 2"
      ],
      "metadata": {
        "id": "kpF8Oy0nio0Y"
      },
      "execution_count": null,
      "outputs": []
    },
    {
      "cell_type": "markdown",
      "source": [
        "Adicione os sinais corretos para criar a variável de snake case."
      ],
      "metadata": {
        "id": "yzBt1YwAi7as"
      }
    },
    {
      "cell_type": "code",
      "source": [
        "total_cash_amount = 23"
      ],
      "metadata": {
        "id": "BYP7Y8eKi9Us"
      },
      "execution_count": null,
      "outputs": []
    },
    {
      "cell_type": "markdown",
      "source": [
        "Crie um nome de variável descritivo para armazenar o número de solicitações de um produto."
      ],
      "metadata": {
        "id": "nsLPaD2ajIuL"
      }
    },
    {
      "cell_type": "code",
      "source": [
        "num_of_request = 110"
      ],
      "metadata": {
        "id": "PiSkBymijTtK"
      },
      "execution_count": null,
      "outputs": []
    },
    {
      "cell_type": "markdown",
      "source": [
        "Termine de criar essa variável."
      ],
      "metadata": {
        "id": "5C84hFLdjbUK"
      }
    },
    {
      "cell_type": "code",
      "source": [
        "     = 10"
      ],
      "metadata": {
        "id": "TIJdsD87jlOi"
      },
      "execution_count": null,
      "outputs": []
    }
  ]
}